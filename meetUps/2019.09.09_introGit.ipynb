{
 "cells": [
  {
   "cell_type": "markdown",
   "metadata": {
    "slideshow": {
     "slide_type": "slide"
    }
   },
   "source": [
    "# Una breve introducción a Git  \n"
   ]
  },
  {
   "cell_type": "markdown",
   "metadata": {
    "slideshow": {
     "slide_type": "slide"
    }
   },
   "source": [
    "![diagrama](https://camo.githubusercontent.com/cfcc15d315075892a5062c1f4fca0177c2a22820/68747470733a2f2f6769742d73636d2e636f6d2f666967757265732f3138333333666967303130362d746e2e706e67 \"Diagrama\")"
   ]
  },
  {
   "cell_type": "markdown",
   "metadata": {
    "slideshow": {
     "slide_type": "slide"
    }
   },
   "source": [
    "## Referencias\n",
    "\n",
    " - https://github.github.com/training-kit/downloads/github-git-cheat-sheet.pdf\n",
    " - https://git-scm.com/book/es/v1/Empezando-Fundamentos-de-Git\n",
    " - https://git-scm.com/docs/gittutorial"
   ]
  }
 ],
 "metadata": {
  "celltoolbar": "Slideshow",
  "kernelspec": {
   "display_name": "Julia 1.2.0",
   "language": "julia",
   "name": "julia-1.2"
  },
  "language_info": {
   "file_extension": ".jl",
   "mimetype": "application/julia",
   "name": "julia",
   "version": "1.2.0"
  }
 },
 "nbformat": 4,
 "nbformat_minor": 2
}
