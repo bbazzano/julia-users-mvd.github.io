{
 "cells": [
  {
   "cell_type": "markdown",
   "metadata": {},
   "source": [
    "# Example 2D Truss Structure Analysis using Julia\n",
    "A simple application of Julia Basic commands to simple truss structures analysis (based on https://github.com/jorgepz/trussStrEAM/blob/master/FEMTrusS.m).\n",
    "\n",
    "**under construction**"
   ]
  },
  {
   "cell_type": "code",
   "execution_count": 54,
   "metadata": {},
   "outputs": [
    {
     "data": {
      "text/plain": [
       "vecu2matu (generic function with 1 method)"
      ]
     },
     "execution_count": 54,
     "metadata": {},
     "output_type": "execute_result"
    }
   ],
   "source": [
    "# Auxiliar functions included\n",
    "include(\"funciones.jl\")"
   ]
  },
  {
   "cell_type": "markdown",
   "metadata": {},
   "source": [
    "## Input\n",
    "Constitutive, geometric and mesh parameters settings."
   ]
  },
  {
   "cell_type": "code",
   "execution_count": 46,
   "metadata": {},
   "outputs": [],
   "source": [
    "E  = 1 ;\n",
    "A  = 1 ;\n",
    "l  = 1 ;\n",
    "lx = 1 ;\n",
    "ly = 1 ;\n",
    "\n",
    "Nodes   = [ 0 0; lx ly; 2*lx 0 ];\n",
    "Conec   = [ 1 2; 2 3] ;\n",
    "fixdofs = [ 1 2 5 6 ] ;"
   ]
  },
  {
   "cell_type": "code",
   "execution_count": 47,
   "metadata": {},
   "outputs": [
    {
     "name": "stdout",
     "output_type": "stream",
     "text": [
      "The mesh is formed by: 2 elements and 3 nodes.\n",
      "The vector of the free degrees of freedom is: [3, 4]\n"
     ]
    }
   ],
   "source": [
    "nelems = size(Conec)[1] ;\n",
    "nnodes = size(Nodes)[1] ;\n",
    "\n",
    "println( \"The mesh is formed by: \",nelems, \" elements and \", nnodes, \" nodes.\")\n",
    "\n",
    "totdofs = 1:(2*nnodes) ;\n",
    "fredofs = setdiff( totdofs, fixdofs );\n",
    "lengths = sqrt.( sum( ( Nodes[Conec[:,2],:] - Nodes[Conec[:,1],:] ).^2, dims = 2 ) )\n",
    "Angles  = atan.( Nodes[ Conec[:,2],2] - Nodes[ Conec[:,1],2] , Nodes[ Conec[:,2],1] - Nodes[ Conec[:,1],1] )\n",
    "\n",
    "println(\"The vector of the free degrees of freedom is: \", fredofs)"
   ]
  },
  {
   "cell_type": "code",
   "execution_count": 48,
   "metadata": {},
   "outputs": [
    {
     "data": {
      "image/png": "[encoded data removed]",
      "text/plain": [
       "Figure(PyObject <Figure size 640x480 with 1 Axes>)"
      ]
     },
     "metadata": {},
     "output_type": "display_data"
    },
    {
     "data": {
      "text/plain": [
       "PyObject Text(0.5, 1, 'Plot of reference configuration.')"
      ]
     },
     "execution_count": 48,
     "metadata": {},
     "output_type": "execute_result"
    }
   ],
   "source": [
    "#using Pkg\n",
    "#Pkg.add(\"PyPlot\")\n",
    "using PyPlot\n",
    "\n",
    "for i in 1:nelems\n",
    "  plot(Nodes[Conec[i,:],1],Nodes[Conec[i,:],2], color=\"black\", linewidth=1.5, linestyle=\"--\")\n",
    "end\n",
    "arrow(Nodes[2,1],Nodes[2,2],0,-0.2,color=\"blue\")\n",
    "xlabel(\"x\")\n",
    "ylabel(\"y\")\n",
    "title(\"Plot of reference configuration.\")\n"
   ]
  },
  {
   "cell_type": "markdown",
   "metadata": {},
   "source": [
    "## Analysis"
   ]
  },
  {
   "cell_type": "code",
   "execution_count": 49,
   "metadata": {},
   "outputs": [
    {
     "data": {
      "text/plain": [
       "Array{Int64,1}"
      ]
     },
     "execution_count": 49,
     "metadata": {},
     "output_type": "execute_result"
    }
   ],
   "source": [
    "using SparseArrays\n",
    "KG    = spzeros(2*nnodes, 2*nnodes)\n",
    "Kbase = [ 1 0 -1 0 ; 0 0 0 0; -1 0 1 0; 0 0 0 0]\n",
    "typeof( nodes2dofs(Conec[2,[1]], 2) )"
   ]
  },
  {
   "cell_type": "code",
   "execution_count": 50,
   "metadata": {},
   "outputs": [],
   "source": [
    "for i in 1:nelems\n",
    "  elemdofs = nodes2dofs(Conec[i,:], 2)\n",
    "  ang = Angles[i];\n",
    "  ca = cos(ang);\n",
    "  sa = sin(ang);\n",
    "    \n",
    "  R = [ ca -sa 0 0; sa  ca 0 0 ; 0 0 ca -sa ; 0  0 sa ca ];\n",
    "    \n",
    "  KG[elemdofs, elemdofs ] += E*A/lengths[i] * R * Kbase * R ;\n",
    "end\n",
    "FG = vec( zeros(2*nnodes,1) );\n",
    "FG[4] = -1.0;"
   ]
  },
  {
   "cell_type": "code",
   "execution_count": 51,
   "metadata": {},
   "outputs": [
    {
     "name": "stdout",
     "output_type": "stream",
     "text": [
      "\n",
      "  [1, 1]  =  0.353553\n",
      "  [2, 1]  =  0.353553\n",
      "  [3, 1]  =  -0.353553\n",
      "  [4, 1]  =  -0.353553\n",
      "  [1, 2]  =  -0.353553\n",
      "  [2, 2]  =  -0.353553\n",
      "  [3, 2]  =  0.353553\n",
      "  [4, 2]  =  0.353553\n",
      "  [1, 3]  =  -0.353553\n",
      "  [2, 3]  =  -0.353553\n",
      "  [3, 3]  =  0.707107\n",
      "  [4, 3]  =  0.0\n",
      "  [5, 3]  =  -0.353553\n",
      "  [6, 3]  =  0.353553\n",
      "  [1, 4]  =  0.353553\n",
      "  [2, 4]  =  0.353553\n",
      "  [3, 4]  =  0.0\n",
      "  [4, 4]  =  -0.707107\n",
      "  [5, 4]  =  -0.353553\n",
      "  [6, 4]  =  0.353553\n",
      "  [3, 5]  =  -0.353553\n",
      "  [4, 5]  =  0.353553\n",
      "  [5, 5]  =  0.353553\n",
      "  [6, 5]  =  -0.353553\n",
      "  [3, 6]  =  -0.353553\n",
      "  [4, 6]  =  0.353553\n",
      "  [5, 6]  =  0.353553\n",
      "  [6, 6]  =  -0.353553\n",
      "[3, 4]\n",
      "\n",
      "  [1, 1]  =  0.707107\n",
      "  [2, 1]  =  0.0\n",
      "  [1, 2]  =  0.0\n",
      "  [2, 2]  =  -0.707107\n",
      "[0.0, -1.0]\n"
     ]
    }
   ],
   "source": [
    "println(KG)\n",
    "println(fredofs)\n",
    "Kliblib = KG[fredofs,fredofs ];\n",
    "Flib    = FG[fredofs];\n",
    "println(Kliblib)\n",
    "println(Flib)"
   ]
  },
  {
   "cell_type": "code",
   "execution_count": 53,
   "metadata": {},
   "outputs": [
    {
     "name": "stdout",
     "output_type": "stream",
     "text": [
      "[0.0, 1.4142135623730954]\n",
      "[0.0, 0.0, 0.0, 1.4142135623730954, 0.0, 0.0]\n"
     ]
    }
   ],
   "source": [
    "u = Kliblib \\ Flib ;\n",
    "UG = vec( zeros( 2*nnodes,1));\n",
    "UG[fredofs] = u;\n",
    "println(u)\n",
    "println(UG)\n",
    "#matu = vecu2matu(UG)\n",
    "#println( matu)\n",
    "#nodesdef = nodes .+ matu"
   ]
  },
  {
   "cell_type": "code",
   "execution_count": null,
   "metadata": {},
   "outputs": [],
   "source": []
  },
  {
   "cell_type": "code",
   "execution_count": 88,
   "metadata": {},
   "outputs": [],
   "source": [
    "\n"
   ]
  },
  {
   "cell_type": "code",
   "execution_count": null,
   "metadata": {},
   "outputs": [],
   "source": [
    "    "
   ]
  },
  {
   "cell_type": "code",
   "execution_count": null,
   "metadata": {},
   "outputs": [],
   "source": []
  }
 ],
 "metadata": {
  "kernelspec": {
   "display_name": "Julia 1.2.0",
   "language": "julia",
   "name": "julia-1.2"
  },
  "language_info": {
   "file_extension": ".jl",
   "mimetype": "application/julia",
   "name": "julia",
   "version": "1.2.0"
  }
 },
 "nbformat": 4,
 "nbformat_minor": 2
}
