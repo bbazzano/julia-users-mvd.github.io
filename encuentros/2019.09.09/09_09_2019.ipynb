{
 "cells": [
  {
   "cell_type": "markdown",
   "metadata": {
    "slideshow": {
     "slide_type": "slide"
    }
   },
   "source": [
    "# Un curso rápido de Julia"
   ]
  },
  {
   "cell_type": "markdown",
   "metadata": {
    "slideshow": {
     "slide_type": "-"
    }
   },
   "source": [
    "Basado en material de [JuliaBoxTutorials](https://github.com/JuliaComputing/JuliaBoxTutorials)."
   ]
  },
  {
   "cell_type": "markdown",
   "metadata": {
    "slideshow": {
     "slide_type": "-"
    }
   },
   "source": [
    "### [Marcelo Forets](http://github.com/mforets), Universidad de la República, Uruguay."
   ]
  },
  {
   "cell_type": "markdown",
   "metadata": {
    "slideshow": {
     "slide_type": "-"
    }
   },
   "source": [
    "#### [Julia Users Group Montevideo](https://julia-users-mvd.github.io/), 9 de setiembre de 2019"
   ]
  },
  {
   "cell_type": "markdown",
   "metadata": {
    "slideshow": {
     "slide_type": "slide"
    }
   },
   "source": [
    "## Contenido de la charla\n",
    "\n",
    "- Introduccion\n",
    "- Conceptos basicos\n",
    "- Control de flujo\n",
    "- Paquetes\n",
    "- Plotting\n",
    "- Profundizando en algunos temas\n",
    "    - El paradigma de multiple dispatch\n",
    "    - Benchmarking\n",
    "    - Algebra lineal basica"
   ]
  },
  {
   "cell_type": "markdown",
   "metadata": {
    "slideshow": {
     "slide_type": "slide"
    }
   },
   "source": [
    "## Introduccion"
   ]
  },
  {
   "cell_type": "markdown",
   "metadata": {},
   "source": [
    "## Quienes usan Julia?\n",
    "\n",
    "- Ver [Julia User & Developer Survey 2019](https://julialang.org/blog/2019/08/2019-julia-survey)"
   ]
  },
  {
   "cell_type": "markdown",
   "metadata": {
    "slideshow": {
     "slide_type": "subslide"
    }
   },
   "source": [
    "## Presentacion de Marcelo Forets\n",
    "\n",
    "- Egresado de FING (Ing. Elec.) y FCIEN (Lic. en Fisica)\n",
    "- Doctor en Matemáticas Aplicadas por la Univ. de Grenoble, Francia (2015)\n",
    "- Ususario de Julia desde 2017 (>= Julia v0.5)\n",
    "- Lead developer de JuliaReach: A Julia package to compute reachable set of dynamical systems"
   ]
  },
  {
   "cell_type": "markdown",
   "metadata": {
    "slideshow": {
     "slide_type": "slide"
    }
   },
   "source": [
    "## Conceptos basicos"
   ]
  },
  {
   "cell_type": "markdown",
   "metadata": {
    "slideshow": {
     "slide_type": "slide"
    }
   },
   "source": [
    "## Control de flujo"
   ]
  },
  {
   "cell_type": "markdown",
   "metadata": {
    "slideshow": {
     "slide_type": "slide"
    }
   },
   "source": [
    "## Paquetes"
   ]
  },
  {
   "cell_type": "markdown",
   "metadata": {
    "slideshow": {
     "slide_type": "slide"
    }
   },
   "source": [
    "## Plotting"
   ]
  },
  {
   "cell_type": "markdown",
   "metadata": {
    "slideshow": {
     "slide_type": "slide"
    }
   },
   "source": [
    "## Profundizando en algunos temas..."
   ]
  }
 ],
 "metadata": {
  "celltoolbar": "Slideshow",
  "kernelspec": {
   "display_name": "Julia 1.1.1",
   "language": "julia",
   "name": "julia-1.1"
  },
  "language_info": {
   "file_extension": ".jl",
   "mimetype": "application/julia",
   "name": "julia",
   "version": "1.2.0"
  }
 },
 "nbformat": 4,
 "nbformat_minor": 2
}
