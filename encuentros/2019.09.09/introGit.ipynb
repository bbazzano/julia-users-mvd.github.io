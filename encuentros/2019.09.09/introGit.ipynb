{
 "cells": [
  {
   "cell_type": "markdown",
   "metadata": {
    "slideshow": {
     "slide_type": "slide"
    }
   },
   "source": [
    "# Una breve introducción a Git  \n"
   ]
  },
  {
   "cell_type": "markdown",
   "metadata": {
    "slideshow": {
     "slide_type": "slide"
    }
   },
   "source": [
    "## ¿Qué es Git?\n",
    "\n",
    "### Control de versiones\n",
    "Las herramientas  _control de versiones_ permiten registrar cambios realizados sobre archivos a lo largo del tiempo, permitiendo recuperar versiones específicas en cualquier momento.\n",
    "\n",
    "### Git\n",
    "_Git_ es una de esas herramientas. Desarrollada en 2005 para organizar el desarrollo del núcleo de Linux.\n",
    "\n",
    "![versiones](https://git-scm.com/figures/18333fig0105-tn.png)"
   ]
  },
  {
   "cell_type": "markdown",
   "metadata": {
    "slideshow": {
     "slide_type": "subslide"
    }
   },
   "source": [
    "<img src=\"https://git-scm.com/book/en/v2/images/distributed.png\" style=\"width: 55%;\">\n"
   ]
  },
  {
   "cell_type": "markdown",
   "metadata": {
    "slideshow": {
     "slide_type": "subslide"
    }
   },
   "source": [
    "### Instalación\n",
    "\n",
    " - Instalación https://git-scm.com/book/es/v1/Empezando-Instalando-Git\n",
    " - Configuración https://git-scm.com/book/es/v1/Empezando-Configurando-Git-por-primera-vez\n",
    " "
   ]
  },
  {
   "cell_type": "markdown",
   "metadata": {
    "slideshow": {
     "slide_type": "slide"
    }
   },
   "source": [
    "## Comandos básicos\n",
    "\n",
    " - Crear repositorios: _init_ y _clone_\n",
    " - Editar reposotiorios: _status_, _diff_, _add_, _reset_ y _commit_ \n",
    " - Modificar archivos: _rm_ y _mv_.\n",
    " - Sincronizar repositorios: _remote_, _fetch_, _merge_, _push_ y _pull_.\n",
    " - Ramas: _checkout_ y _merge_."
   ]
  },
  {
   "cell_type": "markdown",
   "metadata": {
    "slideshow": {
     "slide_type": "slide"
    }
   },
   "source": [
    "### Crear repositorios\n",
    "\n",
    "Es posible crear nuevos repositorios de cero o comenzar con la URL de un repo existente.\n",
    "\n",
    "#### Comandos\n",
    "\n",
    "`$ git init [nombrerepo]`\n",
    "Crea un nuevo repo con nombre _nombrerepo_\n",
    "\n",
    "`$ git clone [url]`\n",
    "Descarga un proyecto y toda su historia de versiones.\n"
   ]
  },
  {
   "cell_type": "markdown",
   "metadata": {
    "slideshow": {
     "slide_type": "subslide"
    }
   },
   "source": [
    "#### Ejemplo\n",
    "\n",
    "<img src=\"repojuliamvd.png\" style=\"width: 50%;\">\n",
    "\n",
    "`$ git clone https://github.com/julia-users-mvd/julia-users-mvd.github.io.git`\n",
    "\n",
    "Crea la carpeta _julia-users-mvd.github.io_ con el contenido de este repo."
   ]
  },
  {
   "cell_type": "markdown",
   "metadata": {
    "slideshow": {
     "slide_type": "slide"
    }
   },
   "source": [
    "### Editar repositorios\n",
    "\n",
    "Existen tres posibles estados en los que se pueden encontrar los archivos: confirmado (committed), modificado (modified), y preparado (staged). El flujo básico de trabajo es: modificar, preparar y confirmar.\n",
    "\n",
    "En todo momento se puede ver el estado de los archivos con el comando `git status`\n",
    "\n",
    "`git add [archivos o directorios]` permite preparar o agregar contenido al próximo commit.\n",
    "\n",
    "`git add .` agrega todos los cambios al próximo commit.\n",
    "\n",
    "`git diff` permite ver los cambios que están preparados para el próximo commit.\n",
    "\n",
    "`git commit` permite confirmar los cambios y en general es usado con la opción `-m` para incluir un mensaje como:\n",
    "\n",
    "`git commit -m \"descripcion de cambios confirmados\"`."
   ]
  },
  {
   "cell_type": "markdown",
   "metadata": {
    "slideshow": {
     "slide_type": "subslide"
    }
   },
   "source": [
    "Este es el diagrama del ciclo de vida de los archivos.\n",
    "\n",
    "![diagrama](https://git-scm.com/figures/18333fig0201-tn.png \"Diagrama\")\n",
    "\n"
   ]
  },
  {
   "cell_type": "markdown",
   "metadata": {
    "slideshow": {
     "slide_type": "subslide"
    }
   },
   "source": [
    "Es posible indicar a git que no haga versionado de ciertos tipos de archivo, por ejemplo, pdf o html para evitar usar demasiado espacio. Para eso se debe crear un archivo llamado `.gitignore` en la raíz del repo. Esto es muy útil editando por ejemplo, archivos en LaTeX.\n"
   ]
  },
  {
   "cell_type": "markdown",
   "metadata": {
    "slideshow": {
     "slide_type": "slide"
    }
   },
   "source": [
    "### Modificar archivos\n",
    "\n",
    "`git mv` permite cambiar de nombre o mover archivos de una ubicación a otra.\n",
    "\n",
    "`git mv directorio/nombre nuevodirectorio/nuevonombre`\n",
    "\n",
    "`git rm` permite que git deje de seguir cierto(s) archivo(s). Luego de aplicar el comando se debe hacer el commit para confirmar. Esto no elimina el archivo del directorio local de trabajo, simplemente deja de registrar las versiones. Puede ser útil la opción `-f` para forzar a borrar archivos que tienen cambios realizados.\n",
    "\n",
    "\n"
   ]
  },
  {
   "cell_type": "markdown",
   "metadata": {
    "slideshow": {
     "slide_type": "slide"
    }
   },
   "source": [
    "### Sincronizar repositorios\n",
    "\n",
    "Para usar git es necesario sincronizar la carpeta de trabajo local con respositorios remotos. Los repositorios remotos son versiones de tu proyecto que se encuentran alojados en Internet o en algún punto de la red."
   ]
  },
  {
   "cell_type": "markdown",
   "metadata": {
    "slideshow": {
     "slide_type": "subslide"
    }
   },
   "source": [
    "\n",
    "#### Comandos\n",
    "\n",
    "Existen tres comandos básicos para sincronizar:\n",
    "\n",
    "`git fetch [REPOREMOTO]` permite actualizar la información de los cambios que hubo en el repositorio REPOREMOTO.\n",
    "\n",
    "`git pull [REPOREMOTO]` permite descargar estos cambios a la versión local en trabajo.\n",
    "\n",
    "`git push [REPOREMOTO]` permite subir los cambios que tengas confirmados al repositorio REPOREMOTO.\n",
    "\n",
    "`git remote -v` permite ver las urls de los repositorios remotos con los cuales es posible sincronizar, por defecto el repo `origin` tiene la url del lugar de donde se descargó (o clonó) el repo.\n",
    "\n",
    "Es posible agregar otras urls usando `git remote add NOMBRE [url repo]`\n",
    "\n",
    "\n"
   ]
  },
  {
   "cell_type": "markdown",
   "metadata": {
    "slideshow": {
     "slide_type": "slide"
    }
   },
   "source": [
    "### Ramas (o branches)\n",
    "\n",
    "Las ramas permiten generar versiones del proyecto obtenidas como bifurcaciones a partir de la línea principal. Son utilizadas para desarrollar diferentes funcionalidades o por diferentes usuarios para luego ser unidas (**merge**) a la rama principal (**master**).\n",
    "\n",
    "La creación de ramas se realiza usando el comando _branch_ y el movimiento entre distintas ramas se realiza con el comando _checkout_. \n",
    "\n",
    "La unión de ramas puede ser realizada usando la interfaz de GitHub a través de la generación de _pull request_.\n",
    "\n"
   ]
  },
  {
   "cell_type": "markdown",
   "metadata": {
    "slideshow": {
     "slide_type": "slide"
    }
   },
   "source": [
    "## Demo?"
   ]
  },
  {
   "cell_type": "markdown",
   "metadata": {
    "slideshow": {
     "slide_type": "slide"
    }
   },
   "source": [
    "## Referencias y materiales\n",
    "\n",
    " 1. https://github.github.com/training-kit/downloads/github-git-cheat-sheet.pdf\n",
    " 1. Pro Git, Scott Chacon and Ben Straub, Apress, https://git-scm.com/book/es/\n",
    " 1. https://git-scm.com/docs/gittutorial"
   ]
  }
 ],
 "metadata": {
  "celltoolbar": "Slideshow",
  "kernelspec": {
   "display_name": "Julia 1.2.0",
   "language": "julia",
   "name": "julia-1.2"
  },
  "language_info": {
   "file_extension": ".jl",
   "mimetype": "application/julia",
   "name": "julia",
   "version": "1.2.0"
  }
 },
 "nbformat": 4,
 "nbformat_minor": 2
}
