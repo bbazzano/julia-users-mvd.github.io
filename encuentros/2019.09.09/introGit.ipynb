{
 "cells": [
  {
   "cell_type": "markdown",
   "metadata": {
    "slideshow": {
     "slide_type": "slide"
    }
   },
   "source": [
    "# Una breve introducción a Git  \n"
   ]
  },
  {
   "cell_type": "markdown",
   "metadata": {
    "slideshow": {
     "slide_type": "slide"
    }
   },
   "source": [
    "## ¿Qué es Git?\n",
    "\n",
    "### Control de versiones\n",
    "Las herramientas  _control de versiones_ permiten registrar cambios realizados sobre archivos a lo largo del tiempo, permitiendo recuperar versiones específicas en cualquier momento.\n",
    "\n",
    "### Git\n",
    "_Git_ es una de esas herramientas. Desarrollada en 2005 para ordenar el desarrollo del núcleo de Linux.\n",
    "\n",
    "![versiones](https://git-scm.com/figures/18333fig0105-tn.png)"
   ]
  },
  {
   "cell_type": "markdown",
   "metadata": {
    "slideshow": {
     "slide_type": "slide"
    }
   },
   "source": [
    "## Comandos básicos\n",
    "\n",
    " - Crear repositorios: _init_ y _clone_\n",
    " - Editar reposotiorios: _status_, _diff_, _add_, _reset_ y_commit_ \n",
    " - Modificar archivos: _rm_ y _mv_.\n",
    " - Sincronizar repositorios: _fetch_, _merge_, _push_ y _pull_."
   ]
  },
  {
   "cell_type": "markdown",
   "metadata": {
    "slideshow": {
     "slide_type": "slide"
    }
   },
   "source": [
    "### Crear repositorios\n",
    "\n",
    "Es posible crear nuevos repositorios de cero o comenzar con la URL de un repo existente.\n",
    "\n",
    "#### Comandos\n",
    "\n",
    "`$ git init [nombrerepo]`\n",
    "Crea un nuevo repo con nombre _nombrerepo_\n",
    "\n",
    "`$ git clone [url]`\n",
    "Descarga un proyecto y toda su historia de versiones.\n"
   ]
  },
  {
   "cell_type": "markdown",
   "metadata": {
    "slideshow": {
     "slide_type": "subslide"
    }
   },
   "source": [
    "#### Ejemplo\n",
    "\n",
    "<img src=\"repojuliamvd.png\" style=\"width: 50%;\">\n",
    "\n",
    "`$ git clone https://github.com/julia-users-mvd/julia-users-mvd.github.io.git`\n",
    "\n",
    "Crea la carpeta _julia-users-mvd.github.io_ con el contenido de este repo."
   ]
  },
  {
   "cell_type": "markdown",
   "metadata": {
    "slideshow": {
     "slide_type": "slide"
    }
   },
   "source": [
    "### Editar repositorios\n",
    "\n",
    "![diagrama](https://camo.githubusercontent.com/cfcc15d315075892a5062c1f4fca0177c2a22820/68747470733a2f2f6769742d73636d2e636f6d2f666967757265732f3138333333666967303130362d746e2e706e67 \"Diagrama\")"
   ]
  },
  {
   "cell_type": "markdown",
   "metadata": {
    "slideshow": {
     "slide_type": "slide"
    }
   },
   "source": [
    "## Referencias\n",
    "\n",
    " - https://github.github.com/training-kit/downloads/github-git-cheat-sheet.pdf\n",
    " - https://git-scm.com/book/es/v1/Empezando-Fundamentos-de-Git\n",
    " - https://git-scm.com/docs/gittutorial"
   ]
  }
 ],
 "metadata": {
  "celltoolbar": "Slideshow",
  "kernelspec": {
   "display_name": "Julia 1.2.0",
   "language": "julia",
   "name": "julia-1.2"
  },
  "language_info": {
   "file_extension": ".jl",
   "mimetype": "application/julia",
   "name": "julia",
   "version": "1.2.0"
  }
 },
 "nbformat": 4,
 "nbformat_minor": 2
}
